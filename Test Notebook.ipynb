{
    "cells": [
        {
            "cell_type": "markdown",
            "metadata": {},
            "source": "# First Jupyter Notebook\n\nTesting with UFC data"
        },
        {
            "cell_type": "code",
            "execution_count": 1,
            "metadata": {},
            "outputs": [
                {
                    "data": {
                        "text/html": "<div>\n<style scoped>\n    .dataframe tbody tr th:only-of-type {\n        vertical-align: middle;\n    }\n\n    .dataframe tbody tr th {\n        vertical-align: top;\n    }\n\n    .dataframe thead th {\n        text-align: right;\n    }\n</style>\n<table border=\"1\" class=\"dataframe\">\n  <thead>\n    <tr style=\"text-align: right;\">\n      <th></th>\n      <th>event</th>\n      <th>date</th>\n      <th>location</th>\n      <th>weightclass</th>\n      <th>fight_num</th>\n      <th>title_fight</th>\n      <th>method</th>\n      <th>round</th>\n      <th>time</th>\n      <th>total_time</th>\n      <th>...</th>\n      <th>clinch_landed_for</th>\n      <th>clinch_att_for</th>\n      <th>clinch_landed_against</th>\n      <th>clinch_att_against</th>\n      <th>ground_landed_for</th>\n      <th>ground_att_for</th>\n      <th>ground_landed_against</th>\n      <th>ground_att_against</th>\n      <th>fighter name</th>\n      <th>slpm</th>\n    </tr>\n  </thead>\n  <tbody>\n    <tr>\n      <th>0</th>\n      <td>UFC Fight Night: Whittaker vs. Gastelum</td>\n      <td>17-Apr-21</td>\n      <td>Las Vegas, Nevada, USA</td>\n      <td>Bantamweight</td>\n      <td>10</td>\n      <td>0</td>\n      <td>KO/TKO</td>\n      <td>2</td>\n      <td>1:31</td>\n      <td>6.52</td>\n      <td>...</td>\n      <td>1</td>\n      <td>5</td>\n      <td>3</td>\n      <td>5</td>\n      <td>21</td>\n      <td>37</td>\n      <td>4</td>\n      <td>4</td>\n      <td>Tony Gravely</td>\n      <td>5.98</td>\n    </tr>\n    <tr>\n      <th>1</th>\n      <td>UFC Fight Night: Whittaker vs. Gastelum</td>\n      <td>17-Apr-21</td>\n      <td>Las Vegas, Nevada, USA</td>\n      <td>Bantamweight</td>\n      <td>10</td>\n      <td>0</td>\n      <td>KO/TKO</td>\n      <td>2</td>\n      <td>1:31</td>\n      <td>6.52</td>\n      <td>...</td>\n      <td>3</td>\n      <td>5</td>\n      <td>1</td>\n      <td>5</td>\n      <td>4</td>\n      <td>4</td>\n      <td>21</td>\n      <td>37</td>\n      <td>Anthony Birchak</td>\n      <td>2.76</td>\n    </tr>\n    <tr>\n      <th>2</th>\n      <td>UFC Fight Night: Whittaker vs. Gastelum</td>\n      <td>17-Apr-21</td>\n      <td>Las Vegas, Nevada, USA</td>\n      <td>Heavyweight</td>\n      <td>2</td>\n      <td>0</td>\n      <td>Decision - Unanimous</td>\n      <td>3</td>\n      <td>5:00</td>\n      <td>15.00</td>\n      <td>...</td>\n      <td>2</td>\n      <td>5</td>\n      <td>4</td>\n      <td>5</td>\n      <td>0</td>\n      <td>0</td>\n      <td>0</td>\n      <td>0</td>\n      <td>Andrei Arlovski</td>\n      <td>7.00</td>\n    </tr>\n    <tr>\n      <th>3</th>\n      <td>UFC Fight Night: Whittaker vs. Gastelum</td>\n      <td>17-Apr-21</td>\n      <td>Las Vegas, Nevada, USA</td>\n      <td>Heavyweight</td>\n      <td>2</td>\n      <td>0</td>\n      <td>Decision - Unanimous</td>\n      <td>3</td>\n      <td>5:00</td>\n      <td>15.00</td>\n      <td>...</td>\n      <td>4</td>\n      <td>5</td>\n      <td>2</td>\n      <td>5</td>\n      <td>0</td>\n      <td>0</td>\n      <td>0</td>\n      <td>0</td>\n      <td>Chase Sherman</td>\n      <td>5.87</td>\n    </tr>\n    <tr>\n      <th>4</th>\n      <td>UFC Fight Night: Whittaker vs. Gastelum</td>\n      <td>17-Apr-21</td>\n      <td>Las Vegas, Nevada, USA</td>\n      <td>Heavyweight</td>\n      <td>6</td>\n      <td>0</td>\n      <td>Decision - Split</td>\n      <td>3</td>\n      <td>1:05</td>\n      <td>11.08</td>\n      <td>...</td>\n      <td>6</td>\n      <td>6</td>\n      <td>4</td>\n      <td>4</td>\n      <td>18</td>\n      <td>27</td>\n      <td>1</td>\n      <td>1</td>\n      <td>Alexandr Romanov</td>\n      <td>2.89</td>\n    </tr>\n  </tbody>\n</table>\n<p>5 rows \u00d7 64 columns</p>\n</div>",
                        "text/plain": "                                     event       date                location  \\\n0  UFC Fight Night: Whittaker vs. Gastelum  17-Apr-21  Las Vegas, Nevada, USA   \n1  UFC Fight Night: Whittaker vs. Gastelum  17-Apr-21  Las Vegas, Nevada, USA   \n2  UFC Fight Night: Whittaker vs. Gastelum  17-Apr-21  Las Vegas, Nevada, USA   \n3  UFC Fight Night: Whittaker vs. Gastelum  17-Apr-21  Las Vegas, Nevada, USA   \n4  UFC Fight Night: Whittaker vs. Gastelum  17-Apr-21  Las Vegas, Nevada, USA   \n\n    weightclass  fight_num  title_fight                method  round  time  \\\n0  Bantamweight         10            0                KO/TKO      2  1:31   \n1  Bantamweight         10            0                KO/TKO      2  1:31   \n2   Heavyweight          2            0  Decision - Unanimous      3  5:00   \n3   Heavyweight          2            0  Decision - Unanimous      3  5:00   \n4   Heavyweight          6            0      Decision - Split      3  1:05   \n\n   total_time  ...  clinch_landed_for clinch_att_for  clinch_landed_against  \\\n0        6.52  ...                  1              5                      3   \n1        6.52  ...                  3              5                      1   \n2       15.00  ...                  2              5                      4   \n3       15.00  ...                  4              5                      2   \n4       11.08  ...                  6              6                      4   \n\n  clinch_att_against  ground_landed_for  ground_att_for  \\\n0                  5                 21              37   \n1                  5                  4               4   \n2                  5                  0               0   \n3                  5                  0               0   \n4                  4                 18              27   \n\n   ground_landed_against  ground_att_against      fighter name  slpm  \n0                      4                   4      Tony Gravely  5.98  \n1                     21                  37   Anthony Birchak  2.76  \n2                      0                   0   Andrei Arlovski  7.00  \n3                      0                   0     Chase Sherman  5.87  \n4                      1                   1  Alexandr Romanov  2.89  \n\n[5 rows x 64 columns]"
                    },
                    "execution_count": 1,
                    "metadata": {},
                    "output_type": "execute_result"
                }
            ],
            "source": "# The code was removed by Watson Studio for sharing."
        }
    ],
    "metadata": {
        "kernelspec": {
            "display_name": "Python 3.8",
            "language": "python",
            "name": "python3"
        },
        "language_info": {
            "codemirror_mode": {
                "name": "ipython",
                "version": 3
            },
            "file_extension": ".py",
            "mimetype": "text/x-python",
            "name": "python",
            "nbconvert_exporter": "python",
            "pygments_lexer": "ipython3",
            "version": "3.8.11"
        }
    },
    "nbformat": 4,
    "nbformat_minor": 1
}